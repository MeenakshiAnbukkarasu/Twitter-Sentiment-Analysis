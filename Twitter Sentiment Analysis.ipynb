{
 "cells": [
  {
   "cell_type": "code",
   "execution_count": 57,
   "metadata": {},
   "outputs": [],
   "source": [
    "import re\n",
    "import pandas as pd \n",
    "import numpy as np \n",
    "import matplotlib.pyplot as plt \n",
    "import seaborn as sns\n",
    "import string\n",
    "import nltk\n",
    "import warnings \n",
    "warnings.filterwarnings(\"ignore\", category=DeprecationWarning)\n",
    "\n",
    "%matplotlib inline"
   ]
  },
  {
   "cell_type": "code",
   "execution_count": 58,
   "metadata": {},
   "outputs": [
    {
     "data": {
      "text/html": [
       "<div>\n",
       "<style scoped>\n",
       "    .dataframe tbody tr th:only-of-type {\n",
       "        vertical-align: middle;\n",
       "    }\n",
       "\n",
       "    .dataframe tbody tr th {\n",
       "        vertical-align: top;\n",
       "    }\n",
       "\n",
       "    .dataframe thead th {\n",
       "        text-align: right;\n",
       "    }\n",
       "</style>\n",
       "<table border=\"1\" class=\"dataframe\">\n",
       "  <thead>\n",
       "    <tr style=\"text-align: right;\">\n",
       "      <th></th>\n",
       "      <th>id</th>\n",
       "      <th>label</th>\n",
       "      <th>tweet</th>\n",
       "    </tr>\n",
       "  </thead>\n",
       "  <tbody>\n",
       "    <tr>\n",
       "      <th>0</th>\n",
       "      <td>1</td>\n",
       "      <td>0</td>\n",
       "      <td>@user when a father is dysfunctional and is s...</td>\n",
       "    </tr>\n",
       "    <tr>\n",
       "      <th>1</th>\n",
       "      <td>2</td>\n",
       "      <td>0</td>\n",
       "      <td>@user @user thanks for #lyft credit i can't us...</td>\n",
       "    </tr>\n",
       "    <tr>\n",
       "      <th>2</th>\n",
       "      <td>3</td>\n",
       "      <td>0</td>\n",
       "      <td>bihday your majesty</td>\n",
       "    </tr>\n",
       "    <tr>\n",
       "      <th>3</th>\n",
       "      <td>4</td>\n",
       "      <td>0</td>\n",
       "      <td>#model   i love u take with u all the time in ...</td>\n",
       "    </tr>\n",
       "    <tr>\n",
       "      <th>4</th>\n",
       "      <td>5</td>\n",
       "      <td>0</td>\n",
       "      <td>factsguide: society now    #motivation</td>\n",
       "    </tr>\n",
       "  </tbody>\n",
       "</table>\n",
       "</div>"
      ],
      "text/plain": [
       "   id  label                                              tweet\n",
       "0   1      0   @user when a father is dysfunctional and is s...\n",
       "1   2      0  @user @user thanks for #lyft credit i can't us...\n",
       "2   3      0                                bihday your majesty\n",
       "3   4      0  #model   i love u take with u all the time in ...\n",
       "4   5      0             factsguide: society now    #motivation"
      ]
     },
     "execution_count": 58,
     "metadata": {},
     "output_type": "execute_result"
    }
   ],
   "source": [
    "train_samples=pd.read_csv(\"train_E6oV3lV.csv\")\n",
    "test_samples=pd.read_csv(\"test_tweets_anuFYb8.csv\")\n",
    "\n",
    "train_samples.head() # check first few columns of the train set."
   ]
  },
  {
   "cell_type": "code",
   "execution_count": 59,
   "metadata": {},
   "outputs": [],
   "source": [
    "'''\n",
    "Preprocessing:\n",
    "\n",
    "By looking at the data we can see that it contains lots of words like ('@user'), punctuation and special characters.\n",
    "\n",
    "These are not gonna help us in analysis.So its better to remove them to get best analysis.\n",
    "\n",
    "We are going to do 4 types of preprocessing on this data:\n",
    "\n",
    "1) Removing @user \n",
    "2) Remove punctuations,special characters and numbers\n",
    "3) Remove short words like on,at,is,him.. Typically words of length < 4\n",
    "4) Stemming of words. Replacing a word with its root word is stemming. \n",
    "Words like singing, singer, sang are different forms of the word sing. Stemming replaces singing, singer, sang with a single word sing.\n",
    "\n",
    "'''\n",
    "\n",
    "# Combine the train and test to apply the cleansing to the data at once. \n",
    "\n",
    "combine = train_samples.append(test_samples,ignore_index=True,sort=False)\n",
    "\n",
    "# Remove @user\n",
    "\n",
    "def remove(input_text, pattern):\n",
    "    \n",
    "    x=re.findall(pattern,input_text)\n",
    "    \n",
    "    for p in x:\n",
    "        input_text = re.sub(p,'',input_text)\n",
    "    \n",
    "    return input_text\n",
    "\n",
    "combine['preprocessed_tweet'] = np.vectorize(remove)(combine['tweet'],\"@[\\w]*\")\n"
   ]
  },
  {
   "cell_type": "code",
   "execution_count": 60,
   "metadata": {},
   "outputs": [],
   "source": [
    "# Remove punctuations, numbers and special characters\n",
    "\n",
    "\n",
    "combine['preprocessed_tweet'] = combine['preprocessed_tweet'].replace(\"[^a-zA-Z#]\",\" \")"
   ]
  },
  {
   "cell_type": "code",
   "execution_count": 61,
   "metadata": {},
   "outputs": [],
   "source": [
    "# Remove words of length lesser than 4\n",
    "\n",
    "combine['preprocessed_tweet'] = combine['preprocessed_tweet'].apply(lambda x : ' '.join([word for word in x.split() if len(word)>3]))"
   ]
  },
  {
   "cell_type": "code",
   "execution_count": 62,
   "metadata": {},
   "outputs": [
    {
     "data": {
      "text/plain": [
       "0    [when, father, dysfunctional, selfish, drags, ...\n",
       "1    [thanks, #lyft, credit, can't, cause, they, do...\n",
       "2                              [bihday, your, majesty]\n",
       "3    [#model, love, take, with, time, urð±!!!, ð...\n",
       "4                  [factsguide:, society, #motivation]\n",
       "Name: preprocessed_tweet, dtype: object"
      ]
     },
     "execution_count": 62,
     "metadata": {},
     "output_type": "execute_result"
    }
   ],
   "source": [
    "# Stemming\n",
    "\n",
    "tweet_tokens = combine['preprocessed_tweet'].apply(lambda x: x.split()) \n",
    "\n",
    "tweet_tokens.head()"
   ]
  },
  {
   "cell_type": "code",
   "execution_count": 63,
   "metadata": {},
   "outputs": [
    {
     "data": {
      "text/plain": [
       "0    [when, father, dysfunct, selfish, drag, kid, i...\n",
       "1    [thank, #lyft, credit, can't, caus, they, don'...\n",
       "2                              [bihday, your, majesti]\n",
       "3    [#model, love, take, with, time, urð±!!!, ð...\n",
       "4                       [factsguide:, societi, #motiv]\n",
       "Name: preprocessed_tweet, dtype: object"
      ]
     },
     "execution_count": 63,
     "metadata": {},
     "output_type": "execute_result"
    }
   ],
   "source": [
    "from nltk.stem.porter import *\n",
    "stemmer = PorterStemmer()\n",
    "\n",
    "tweet_tokens = tweet_tokens.apply(lambda x : [stemmer.stem(i) for i in x])\n",
    "tweet_tokens.head()"
   ]
  },
  {
   "cell_type": "code",
   "execution_count": 64,
   "metadata": {},
   "outputs": [],
   "source": [
    "for i in range(len(tweet_tokens)):\n",
    "\n",
    "    tweet_tokens[i] = ' '.join(tweet_tokens[i])\n",
    "\n",
    "combine['preprocessed_tweet'] = tweet_tokens"
   ]
  },
  {
   "cell_type": "code",
   "execution_count": null,
   "metadata": {},
   "outputs": [],
   "source": []
  },
  {
   "cell_type": "code",
   "execution_count": null,
   "metadata": {},
   "outputs": [],
   "source": []
  }
 ],
 "metadata": {
  "kernelspec": {
   "display_name": "Python 3",
   "language": "python",
   "name": "python3"
  },
  "language_info": {
   "codemirror_mode": {
    "name": "ipython",
    "version": 3
   },
   "file_extension": ".py",
   "mimetype": "text/x-python",
   "name": "python",
   "nbconvert_exporter": "python",
   "pygments_lexer": "ipython3",
   "version": "3.6.5"
  }
 },
 "nbformat": 4,
 "nbformat_minor": 2
}
